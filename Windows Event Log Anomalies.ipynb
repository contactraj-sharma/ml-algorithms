{
 "cells": [
  {
   "cell_type": "markdown",
   "metadata": {},
   "source": [
    "## Windows Event Log Anomalies\n",
    "\n",
    "In this notebook we will be using windows event logs to train a clustering model that will identify anomalous event code, user and host combinations in a given dataset.\n",
    "\n",
    "***Stage 0: Import Libraries***\n",
    "    \n",
    "In this section we import all the python code libraries we will be using in the notebook"
   ]
  },
  {
   "cell_type": "code",
   "execution_count": 1,
   "metadata": {},
   "outputs": [],
   "source": [
    "import io, os, sys, types, datetime, math, time, glob\n",
    "from datetime import datetime, timedelta\n",
    "\n",
    "import splunklib.client as client\n",
    "import splunklib.results as results\n",
    "import pandas as pd\n",
    "import numpy as np\n",
    "\n",
    "from sklearn.preprocessing import StandardScaler\n",
    "from sklearn.decomposition import PCA\n",
    "from sklearn.cluster import DBSCAN\n",
    "\n",
    "import matplotlib.pyplot as plt \n",
    "%matplotlib inline"
   ]
  },
  {
   "cell_type": "markdown",
   "metadata": {},
   "source": [
    "***Stage 1: Connect to and query Splunk***\n",
    "\n",
    "Here we will initialise a connection to a Splunk instance and query some of the Boss of the SOC (BOTS) data - in this case the BOTSv2 dataset which can be found here: https://github.com/splunk/botsv2"
   ]
  },
  {
   "cell_type": "code",
   "execution_count": 2,
   "metadata": {},
   "outputs": [],
   "source": [
    "HOST = \"localhost\"\n",
    "PORT = 8089\n",
    "USERNAME = \"admin\"\n",
    "PASSWORD = \"5up3rn0va\"\n",
    "\n",
    "# Create a Service instance and log in \n",
    "service = client.connect(\n",
    "    host=HOST,\n",
    "    port=PORT,\n",
    "    username=USERNAME,\n",
    "    password=PASSWORD)"
   ]
  },
  {
   "cell_type": "code",
   "execution_count": 3,
   "metadata": {},
   "outputs": [],
   "source": [
    "# Run an export search and display the results using the results reader.\n",
    "kwargs_export = {\"earliest_time\": \"0\",\n",
    "                 \"latest_time\": \"now\",\n",
    "                 \"enable_lookups\": \"true\",\n",
    "                 \"parse_only\": \"false\",\n",
    "                 \"count\": \"0\"}\n",
    "searchquery_export = \"\"\"search index=botsv2 source=\"*WinEventLog:Security\" earliest=1503183600 latest=1504306800\n",
    "        | bin _time span=1h\n",
    "        | eval key=host.\"|\".user.\"|\".EventCode\n",
    "        | stats count by _time key \n",
    "        | makemv key delim=\"|\"\n",
    "        | eval DayOfWeek=strftime(_time,\"%a\"), host=mvindex(key,0), user=mvindex(key,1), EventCode=mvindex(key,2)\n",
    "        | eval key=mvjoin(key, \"|\")\"\"\"\n",
    "\n",
    "exportsearch_results = service.jobs.oneshot(searchquery_export, **kwargs_export)\n",
    "\n",
    "# Get the results and display them using the ResultsReader\n",
    "reader = results.ResultsReader(exportsearch_results)\n",
    "\n",
    "items=[]\n",
    "for item in reader:\n",
    "    items.append(item)\n",
    "\n",
    "df=pd.DataFrame(items)"
   ]
  },
  {
   "cell_type": "markdown",
   "metadata": {},
   "source": [
    "***Stage 2: Feature Engineering***\n",
    "\n",
    "In this section we will be creating the features that we will be using to train our clustering model. \n",
    "\n",
    "Firt we are going to calculated a normalised Perlich ratio to convert our high cardinality categorical features into numeric data that a clustering algorithm can use."
   ]
  },
  {
   "cell_type": "code",
   "execution_count": 4,
   "metadata": {},
   "outputs": [],
   "source": [
    "def normalised_perlich_ratio(x,y,name):\n",
    "    crosstab=pd.crosstab(x,y)\n",
    "    xy = crosstab.divide(crosstab.sum(axis=1), axis=0)\n",
    "    pr_denom = np.sqrt((xy ** 2).sum(axis=1))\n",
    "    pr_matrix = xy.divide(pr_denom, axis=0)\n",
    "    pr_normalised = pr_matrix.divide(pr_matrix.sum(axis=0), axis=1).transpose()\n",
    "    \n",
    "    list=[]\n",
    "    for index, row in pr_normalised.iterrows():\n",
    "        list.append([index,\"Mon\",row[1]])\n",
    "        list.append([index,\"Tue\",row[5]])\n",
    "        list.append([index,\"Wed\",row[6]])\n",
    "        list.append([index,\"Thu\",row[4]])\n",
    "        list.append([index,\"Fri\",row[0]])\n",
    "        list.append([index,\"Sat\",row[2]])\n",
    "        list.append([index,\"Sun\",row[3]])\n",
    "    \n",
    "    pr_normalised_list=pd.DataFrame(list,columns=[name,'DayOfWeek',name+'_ratio'])\n",
    "\n",
    "    return pr_normalised_list"
   ]
  },
  {
   "cell_type": "code",
   "execution_count": 5,
   "metadata": {},
   "outputs": [],
   "source": [
    "event_code_pr=normalised_perlich_ratio(df['DayOfWeek'],df['EventCode'],'EventCode')\n",
    "host_pr=normalised_perlich_ratio(df['DayOfWeek'],df['host'],'host')\n",
    "user_pr=normalised_perlich_ratio(df['DayOfWeek'],df['user'],'user')\n",
    "key_pr=normalised_perlich_ratio(df['DayOfWeek'],df['key'],'key')"
   ]
  },
  {
   "cell_type": "markdown",
   "metadata": {},
   "source": [
    "Next we enrich our original data with the Perlich ratios we have just calculated."
   ]
  },
  {
   "cell_type": "code",
   "execution_count": 6,
   "metadata": {},
   "outputs": [],
   "source": [
    "df = pd.merge(df, event_code_pr,  how='left', left_on=['EventCode','DayOfWeek'], right_on = ['EventCode','DayOfWeek'])\n",
    "df = pd.merge(df, host_pr,  how='left', left_on=['host','DayOfWeek'], right_on = ['host','DayOfWeek'])\n",
    "df = pd.merge(df, user_pr,  how='left', left_on=['user','DayOfWeek'], right_on = ['user','DayOfWeek'])\n",
    "df = pd.merge(df, key_pr,  how='left', left_on=['key','DayOfWeek'], right_on = ['key','DayOfWeek'])"
   ]
  },
  {
   "cell_type": "markdown",
   "metadata": {},
   "source": [
    "We are now going to scale the counts and the ratios, further normalising our original data."
   ]
  },
  {
   "cell_type": "code",
   "execution_count": 7,
   "metadata": {},
   "outputs": [],
   "source": [
    "scaler = StandardScaler()\n",
    "scaler.fit(df[['count','EventCode_ratio','host_ratio','user_ratio','key_ratio']])\n",
    "\n",
    "column_names=['scaled_count','scaled_EventCode_ratio','scaled_host_ratio','scaled_user_ratio','scaled_key_ratio']\n",
    "scaled_data=pd.DataFrame(scaler.transform(df[['count','EventCode_ratio','host_ratio','user_ratio','key_ratio']]),columns=column_names)"
   ]
  },
  {
   "cell_type": "markdown",
   "metadata": {},
   "source": [
    "With the scaled data we are going to using principal component analysis to reduce the dimensions from 5 down to 2. This is partly to reduce the risk of a few features biasing the clustering model and partly to help us visualise the results later on."
   ]
  },
  {
   "cell_type": "code",
   "execution_count": 8,
   "metadata": {},
   "outputs": [],
   "source": [
    "pca = PCA(n_components=2)\n",
    "components=pca.fit_transform(scaled_data)\n",
    "principal_df = pd.DataFrame(data = components, columns = ['PC_1', 'PC_2'])"
   ]
  },
  {
   "cell_type": "markdown",
   "metadata": {},
   "source": [
    "***Stage 3: Fit the Clustering Model***\n",
    "\n",
    "In this final section we will trian a clustering model using DBSCAN (https://towardsdatascience.com/dbscan-clustering-explained-97556a2ad556) before visualising our results to identify the anomalies in our data."
   ]
  },
  {
   "cell_type": "code",
   "execution_count": 9,
   "metadata": {},
   "outputs": [],
   "source": [
    "clustering = DBSCAN(eps=0.6, min_samples=20).fit(principal_df)\n",
    "principal_df['cluster']=clustering.labels_\n",
    "clusters=pd.DataFrame(clustering.labels_,columns=['cluster'])\n",
    "clusters=clusters.cluster.unique()"
   ]
  },
  {
   "cell_type": "code",
   "execution_count": 10,
   "metadata": {},
   "outputs": [
    {
     "data": {
      "image/png": "[encoded data removed]",
      "text/plain": [
       "<Figure size 432x288 with 1 Axes>"
      ]
     },
     "metadata": {
      "needs_background": "light"
     },
     "output_type": "display_data"
    }
   ],
   "source": [
    "fig, ax = plt.subplots()\n",
    "for cluster in clusters:\n",
    "    \n",
    "    ax.scatter(principal_df[principal_df.cluster==cluster]['PC_1'], principal_df[principal_df.cluster==cluster]['PC_2'], label=cluster,\n",
    "               alpha=0.3, edgecolors='none')\n",
    "\n",
    "ax.legend()\n",
    "ax.grid(True)\n",
    "\n",
    "plt.show()"
   ]
  },
  {
   "cell_type": "code",
   "execution_count": null,
   "metadata": {},
   "outputs": [],
   "source": []
  }
 ],
 "metadata": {
  "kernelspec": {
   "display_name": "Python 3",
   "language": "python",
   "name": "python3"
  },
  "language_info": {
   "codemirror_mode": {
    "name": "ipython",
    "version": 3
   },
   "file_extension": ".py",
   "mimetype": "text/x-python",
   "name": "python",
   "nbconvert_exporter": "python",
   "pygments_lexer": "ipython3",
   "version": "3.8.3"
  }
 },
 "nbformat": 4,
 "nbformat_minor": 4
}
