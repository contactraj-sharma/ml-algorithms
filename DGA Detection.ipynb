{
 "cells": [
  {
   "cell_type": "markdown",
   "metadata": {},
   "source": [
    "## DGA Detection Notebook\n",
    "\n",
    "***Stage 0: Library Import***"
   ]
  },
  {
   "cell_type": "markdown",
   "metadata": {},
   "source": [
    "Initial code block to import libraries"
   ]
  },
  {
   "cell_type": "code",
   "execution_count": 1,
   "metadata": {},
   "outputs": [],
   "source": [
    "import io, os, sys, types, datetime, math, time, glob\n",
    "from datetime import datetime, timedelta\n",
    "\n",
    "import splunklib.client as client\n",
    "import splunklib.results as results\n",
    "import pandas as pd\n",
    "\n",
    "from sklearn.feature_extraction.text import TfidfVectorizer\n",
    "from sklearn.decomposition import PCA\n",
    "from sklearn.model_selection import train_test_split\n",
    "from sklearn.ensemble import RandomForestClassifier\n",
    "from sklearn.metrics import plot_confusion_matrix\n",
    "\n",
    "import matplotlib.pyplot as plt \n",
    "%matplotlib inline\n"
   ]
  },
  {
   "cell_type": "markdown",
   "metadata": {},
   "source": [
    "***Stage 1: Feature Engineering***\n",
    "\n",
    "In this section we will be enriching our raw data with additional features that describe the domain name in more detail.\n",
    "\n",
    "We will be accessing one of the lookup files that ships with the DGA App for Splunk (https://splunkbase.splunk.com/app/3559/) and do not need to query Splunk directly to access the data. Again note that you will need to substitute the path to the lookup file to work in your environment."
   ]
  },
  {
   "cell_type": "code",
   "execution_count": 2,
   "metadata": {},
   "outputs": [],
   "source": [
    "df=pd.read_csv(\"/path_to_splunk/Splunk/etc/apps/dga_analysis/lookups/dga_domains.csv\")"
   ]
  },
  {
   "cell_type": "markdown",
   "metadata": {},
   "source": [
    "This function cacluates the shannon entropy of the domain name - more reading here: https://arxiv.org/pdf/1405.2061.pdf#:~:text=At%20a%20conceptual%20level%2C%20Shannon's,of%20information%20in%20that%20variable."
   ]
  },
  {
   "cell_type": "code",
   "execution_count": 3,
   "metadata": {},
   "outputs": [],
   "source": [
    "# Enrich the data with the shannon entropy of the domain name\n",
    "\n",
    "def shannon(word):\n",
    "    entropy = 0.0\n",
    "    length = len(word)\n",
    "\n",
    "    occ = {}\n",
    "    for ch in word:\n",
    "        if ch in occ:\n",
    "            occ[ch] += 1\n",
    "        else:\n",
    "            occ[ch] = 1\n",
    "\n",
    "    for (k,v) in occ.items():\n",
    "        p = float( v ) / float(length)\n",
    "        entropy -= p * math.log(p, 2) # Log base 2\n",
    "    \n",
    "    return entropy"
   ]
  },
  {
   "cell_type": "markdown",
   "metadata": {},
   "source": [
    "This next function calculates the vowel, consonant and numeric value ratio in the domain name"
   ]
  },
  {
   "cell_type": "code",
   "execution_count": 4,
   "metadata": {},
   "outputs": [],
   "source": [
    "# Enrich the data with the vowel, consonant and numeric character ratios\n",
    "\n",
    "def char_check(word):\n",
    "    vowels=0\n",
    "    consonants=0\n",
    "    numbers=0\n",
    "    length=len(word)\n",
    "    \n",
    "    for ch in word:\n",
    "        if (ch=='A' or ch=='a' or ch=='E' or ch =='e' or ch=='I'\n",
    " or ch=='i' or ch=='O' or ch=='o' or ch=='U' or ch=='u'):\n",
    "            vowels+=1\n",
    "        elif ch.isalpha():\n",
    "            consonants+=1\n",
    "        elif ch.isnumeric():\n",
    "            numbers+=1\n",
    "    \n",
    "    ratios=[vowels/length,consonants/length,numbers/length]\n",
    "    \n",
    "    return ratios"
   ]
  },
  {
   "cell_type": "markdown",
   "metadata": {},
   "source": [
    "Using these functions we are going to enrich our orignal data to include the domain name length, the shannon entropy and the vowel, consonant and number ratios from the domain name"
   ]
  },
  {
   "cell_type": "code",
   "execution_count": 5,
   "metadata": {},
   "outputs": [],
   "source": [
    "# Enrich the data with an additional column that describes the length of the domain\n",
    "df['domain_length']=df.apply(lambda row: len(row.domain), axis=1)\n",
    "\n",
    "# Calculate the entropy and ratios for the domain name   \n",
    "shannon_entropy=list()\n",
    "character_ratios=list()\n",
    "\n",
    "for record in df['domain']:\n",
    "    shannon_entropy.append(shannon(record))\n",
    "    character_ratios.append(char_check(record))\n",
    "\n",
    "# Enrich our data with the entropy\n",
    "df[\"shannon_entropy\"]=shannon_entropy\n",
    "\n",
    "# Enrich our data with the character ratios\n",
    "char_ratios=pd.DataFrame(character_ratios,columns=['vowel_ratio','consonant_ratio','number_ratio'])    \n",
    "df=pd.concat([df,char_ratios],axis=1)"
   ]
  },
  {
   "cell_type": "markdown",
   "metadata": {},
   "source": [
    "Next we are going to use TF-IDF to extract some of the key terms from across our corpus of domain names"
   ]
  },
  {
   "cell_type": "code",
   "execution_count": 6,
   "metadata": {},
   "outputs": [],
   "source": [
    "# Train our TF-IDF Vectorizer\n",
    "tfIdfVectorizer=TfidfVectorizer(analyzer='char',max_features=100,ngram_range=(2,3),use_idf=True)\n",
    "tfIdf = tfIdfVectorizer.fit_transform(df['domain'])\n",
    "\n",
    "# Create a data frame that describes the key terms in the set of domains and their likelihood\n",
    "tfidf_df = pd.DataFrame(tfIdf[0].T.todense(), index=tfIdfVectorizer.get_feature_names(), columns=[\"TF-IDF\"])\n",
    "tfidf_df = tfidf_df.sort_values('TF-IDF', ascending=False)\n",
    "\n",
    "# Use the key terms to set some output names\n",
    "output_names=tfidf_df.index\n",
    "\n",
    "# Transform the output data\n",
    "output=tfIdf.toarray()\n",
    "\n",
    "# Create a dataframe from the output data and output column names\n",
    "tfidf_df_output = pd.DataFrame(output,columns=output_names)\n",
    "\n",
    "# Enrich our data frame with the TF-IDF extractions\n",
    "df=pd.concat([df,tfidf_df_output],axis=1)"
   ]
  },
  {
   "cell_type": "markdown",
   "metadata": {},
   "source": [
    "Next we will use PCA to reduce our TF-IDF extractions into a set of 3 principal components"
   ]
  },
  {
   "cell_type": "code",
   "execution_count": 7,
   "metadata": {},
   "outputs": [],
   "source": [
    "pca = PCA(n_components=3)\n",
    "components=pca.fit_transform(tfidf_df_output)\n",
    "principal_df = pd.DataFrame(data = components, columns = ['PC_1', 'PC_2','PC_3'])\n",
    "\n",
    "df=pd.concat([df,principal_df],axis=1)"
   ]
  },
  {
   "cell_type": "markdown",
   "metadata": {},
   "source": [
    "***Stage 2: Train and Test a Model***\n",
    "\n",
    "In this final section we will be training a Random Forest Regressor to predict if a given domain name is legitimate or not."
   ]
  },
  {
   "cell_type": "code",
   "execution_count": 8,
   "metadata": {},
   "outputs": [
    {
     "data": {
      "text/plain": [
       "RandomForestClassifier(n_estimators=25)"
      ]
     },
     "execution_count": 8,
     "metadata": {},
     "output_type": "execute_result"
    }
   ],
   "source": [
    "# Set our variables to use in the model training and testing\n",
    "target_variable=df['class']\n",
    "feature_variables=df[['domain_length','shannon_entropy','vowel_ratio','consonant_ratio','number_ratio','PC_1','PC_2','PC_3']]\n",
    "\n",
    "# Split into train and test datasets\n",
    "feature_train, feature_test, target_train, target_test = train_test_split(feature_variables, target_variable, test_size=0.3, random_state=42)\n",
    "\n",
    "# Train the random forest classifier\n",
    "rfc=RandomForestClassifier(n_estimators=25)\n",
    "rfc.fit(feature_train,target_train)"
   ]
  },
  {
   "cell_type": "markdown",
   "metadata": {},
   "source": [
    "Plot a confusion matrix that can be used to assess the accuracy of our predictions"
   ]
  },
  {
   "cell_type": "code",
   "execution_count": 9,
   "metadata": {},
   "outputs": [
    {
     "data": {
      "image/png": "[encoded data removed]",
      "text/plain": [
       "<Figure size 432x288 with 2 Axes>"
      ]
     },
     "metadata": {
      "needs_background": "light"
     },
     "output_type": "display_data"
    }
   ],
   "source": [
    "plot_confusion_matrix(rfc, feature_test, target_test)  \n",
    "plt.show() "
   ]
  },
  {
   "cell_type": "code",
   "execution_count": null,
   "metadata": {},
   "outputs": [],
   "source": []
  }
 ],
 "metadata": {
  "kernelspec": {
   "display_name": "Python 3",
   "language": "python",
   "name": "python3"
  },
  "language_info": {
   "codemirror_mode": {
    "name": "ipython",
    "version": 3
   },
   "file_extension": ".py",
   "mimetype": "text/x-python",
   "name": "python",
   "nbconvert_exporter": "python",
   "pygments_lexer": "ipython3",
   "version": "3.8.3"
  }
 },
 "nbformat": 4,
 "nbformat_minor": 4
}
