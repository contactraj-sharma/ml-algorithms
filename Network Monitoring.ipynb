{
 "cells": [
  {
   "cell_type": "markdown",
   "metadata": {},
   "source": [
    "## Network Monitoring\n",
    "\n",
    "***Stage 0: Import Libraries***\n",
    "In this code block we are going to import all the python libraries that we are going to use."
   ]
  },
  {
   "cell_type": "code",
   "execution_count": 1,
   "metadata": {},
   "outputs": [],
   "source": [
    "import io, os, sys, types, datetime, math, time, glob\n",
    "from datetime import datetime, timedelta\n",
    "\n",
    "import splunklib.client as client\n",
    "import splunklib.results as results\n",
    "import pandas as pd\n",
    "import numpy as np\n",
    "\n",
    "import networkx as nx\n",
    "\n",
    "from sklearn.ensemble import IsolationForest\n",
    "\n",
    "import matplotlib.pyplot as plt \n",
    "%matplotlib inline"
   ]
  },
  {
   "cell_type": "markdown",
   "metadata": {},
   "source": [
    "***Stage 1: Connect to Splunk***\n",
    "\n",
    "Here we are going to set up our connect to Splunk. Note that you will need to change the host, port, username and password to match your environment. "
   ]
  },
  {
   "cell_type": "code",
   "execution_count": 2,
   "metadata": {},
   "outputs": [],
   "source": [
    "HOST = \"localhost\"\n",
    "PORT = 8089\n",
    "USERNAME = \"user\"\n",
    "PASSWORD = \"password\"\n",
    "\n",
    "# Create a Service instance and log in \n",
    "service = client.connect(\n",
    "    host=HOST,\n",
    "    port=PORT,\n",
    "    username=USERNAME,\n",
    "    password=PASSWORD)"
   ]
  },
  {
   "cell_type": "markdown",
   "metadata": {},
   "source": [
    "Next up we are querying our Splunk instance to return the CIDDS data (https://www.hs-coburg.de/forschung/forschungsprojekte-oeffentlich/informationstechnologie/cidds-coburg-intrusion-detection-data-sets.html#:~:text=CIDDS%20(Coburg%20Intrusion%20Detection%20Data,penetrate%20their%20target%20of%20interest.). Note that you will need to download and import netflow data from the CIDDS-001 dataset into an index called cidds in order for the query below to work properly. "
   ]
  },
  {
   "cell_type": "code",
   "execution_count": 3,
   "metadata": {},
   "outputs": [],
   "source": [
    "# Run an export search and display the results using the results reader.\n",
    "kwargs_export = {\"earliest_time\": \"0\",\n",
    "                 \"latest_time\": \"now\",\n",
    "                 \"enable_lookups\": \"true\",\n",
    "                 \"parse_only\": \"false\",\n",
    "                 \"count\": \"0\"}\n",
    "searchquery_export = 'search index=cidds \"Src IP Addr\"=192.168.* \"Dst IP Addr\"=192.168.* earliest=0 | stats count by \"Src IP Addr\" \"Dst IP Addr\"'\n",
    "\n",
    "exportsearch_results = service.jobs.oneshot(searchquery_export, **kwargs_export)\n",
    "\n",
    "# Get the results and display them using the ResultsReader\n",
    "reader = results.ResultsReader(exportsearch_results)\n",
    "\n",
    "items=[]\n",
    "for item in reader:\n",
    "    items.append(item)\n",
    "\n",
    "df=pd.DataFrame(items)"
   ]
  },
  {
   "cell_type": "markdown",
   "metadata": {},
   "source": [
    "***Stage 2: Analyse our Netflow logs to understand the Topology of the Network***\n",
    "\n",
    "Here we are using the NetworkX library to visualise the network and also to identify the most embedded - i.e. those with the most connections - nodes in the network."
   ]
  },
  {
   "cell_type": "code",
   "execution_count": 4,
   "metadata": {},
   "outputs": [
    {
     "data": {
      "image/png": "[encoded data removed]",
      "text/plain": [
       "<Figure size 432x288 with 1 Axes>"
      ]
     },
     "metadata": {},
     "output_type": "display_data"
    }
   ],
   "source": [
    "graph = nx.Graph()\n",
    "\n",
    "for index, row in df.iterrows():\n",
    "    graph.add_edge(row['Src IP Addr'], row['Dst IP Addr'], value=row['count'])\n",
    "\n",
    "nx.draw(graph)                                          "
   ]
  },
  {
   "cell_type": "markdown",
   "metadata": {},
   "source": [
    "We are then going to calculate some centrality measures that will help identify the most embedded nodes in the network by measuing the degrees of connectedness across the network structre we have visualised above."
   ]
  },
  {
   "cell_type": "code",
   "execution_count": 5,
   "metadata": {},
   "outputs": [],
   "source": [
    "# compute centrality\n",
    "outputcolumns = []\n",
    "cents = nx.algorithms.centrality.degree_centrality(graph)\n",
    "degs = pd.DataFrame(list(cents.items()), columns=['Src IP Addr', 'degree_centrality'])\n",
    "                                          \n",
    "cents = nx.algorithms.centrality.eigenvector_centrality(graph, max_iter=1000)\n",
    "eigen = pd.DataFrame(list(cents.items()), columns=['Src IP Addr', 'eigenvector_centrality'])"
   ]
  },
  {
   "cell_type": "code",
   "execution_count": 6,
   "metadata": {},
   "outputs": [
    {
     "data": {
      "text/html": [
       "<div>\n",
       "<style scoped>\n",
       "    .dataframe tbody tr th:only-of-type {\n",
       "        vertical-align: middle;\n",
       "    }\n",
       "\n",
       "    .dataframe tbody tr th {\n",
       "        vertical-align: top;\n",
       "    }\n",
       "\n",
       "    .dataframe thead th {\n",
       "        text-align: right;\n",
       "    }\n",
       "</style>\n",
       "<table border=\"1\" class=\"dataframe\">\n",
       "  <thead>\n",
       "    <tr style=\"text-align: right;\">\n",
       "      <th></th>\n",
       "      <th>Src IP Addr</th>\n",
       "      <th>degree_centrality</th>\n",
       "    </tr>\n",
       "  </thead>\n",
       "  <tbody>\n",
       "    <tr>\n",
       "      <th>2</th>\n",
       "      <td>192.168.220.15</td>\n",
       "      <td>0.983418</td>\n",
       "    </tr>\n",
       "    <tr>\n",
       "      <th>3</th>\n",
       "      <td>192.168.220.16</td>\n",
       "      <td>0.983418</td>\n",
       "    </tr>\n",
       "    <tr>\n",
       "      <th>1</th>\n",
       "      <td>192.168.100.5</td>\n",
       "      <td>0.028061</td>\n",
       "    </tr>\n",
       "    <tr>\n",
       "      <th>6</th>\n",
       "      <td>192.168.100.4</td>\n",
       "      <td>0.026786</td>\n",
       "    </tr>\n",
       "    <tr>\n",
       "      <th>7</th>\n",
       "      <td>192.168.100.6</td>\n",
       "      <td>0.026786</td>\n",
       "    </tr>\n",
       "  </tbody>\n",
       "</table>\n",
       "</div>"
      ],
      "text/plain": [
       "      Src IP Addr  degree_centrality\n",
       "2  192.168.220.15           0.983418\n",
       "3  192.168.220.16           0.983418\n",
       "1   192.168.100.5           0.028061\n",
       "6   192.168.100.4           0.026786\n",
       "7   192.168.100.6           0.026786"
      ]
     },
     "execution_count": 6,
     "metadata": {},
     "output_type": "execute_result"
    }
   ],
   "source": [
    "degs.sort_values(['degree_centrality'],ascending=0).head(5)"
   ]
  },
  {
   "cell_type": "code",
   "execution_count": 7,
   "metadata": {},
   "outputs": [
    {
     "data": {
      "text/html": [
       "<div>\n",
       "<style scoped>\n",
       "    .dataframe tbody tr th:only-of-type {\n",
       "        vertical-align: middle;\n",
       "    }\n",
       "\n",
       "    .dataframe tbody tr th {\n",
       "        vertical-align: top;\n",
       "    }\n",
       "\n",
       "    .dataframe thead th {\n",
       "        text-align: right;\n",
       "    }\n",
       "</style>\n",
       "<table border=\"1\" class=\"dataframe\">\n",
       "  <thead>\n",
       "    <tr style=\"text-align: right;\">\n",
       "      <th></th>\n",
       "      <th>Src IP Addr</th>\n",
       "      <th>eigenvector_centrality</th>\n",
       "    </tr>\n",
       "  </thead>\n",
       "  <tbody>\n",
       "    <tr>\n",
       "      <th>2</th>\n",
       "      <td>192.168.220.15</td>\n",
       "      <td>0.499440</td>\n",
       "    </tr>\n",
       "    <tr>\n",
       "      <th>3</th>\n",
       "      <td>192.168.220.16</td>\n",
       "      <td>0.499440</td>\n",
       "    </tr>\n",
       "    <tr>\n",
       "      <th>1</th>\n",
       "      <td>192.168.100.5</td>\n",
       "      <td>0.033055</td>\n",
       "    </tr>\n",
       "    <tr>\n",
       "      <th>6</th>\n",
       "      <td>192.168.100.4</td>\n",
       "      <td>0.032388</td>\n",
       "    </tr>\n",
       "    <tr>\n",
       "      <th>7</th>\n",
       "      <td>192.168.100.6</td>\n",
       "      <td>0.032388</td>\n",
       "    </tr>\n",
       "  </tbody>\n",
       "</table>\n",
       "</div>"
      ],
      "text/plain": [
       "      Src IP Addr  eigenvector_centrality\n",
       "2  192.168.220.15                0.499440\n",
       "3  192.168.220.16                0.499440\n",
       "1   192.168.100.5                0.033055\n",
       "6   192.168.100.4                0.032388\n",
       "7   192.168.100.6                0.032388"
      ]
     },
     "execution_count": 7,
     "metadata": {},
     "output_type": "execute_result"
    }
   ],
   "source": [
    "eigen.sort_values(['eigenvector_centrality'],ascending=0).head(5)"
   ]
  },
  {
   "cell_type": "markdown",
   "metadata": {},
   "source": [
    "***Stage 3: Identify Anomalies***\n",
    "\n",
    "Next up we are going to use look for anomalies in our network data.\n",
    "\n",
    "Firtly we are going to run another search against our Splunk data to return the number of flows across a given IP address - in this case the IP 192.168.220.15 that we identified using graph analytics above as being embedded in our network."
   ]
  },
  {
   "cell_type": "code",
   "execution_count": 8,
   "metadata": {},
   "outputs": [],
   "source": [
    "# Run an export search and display the results using the results reader.\n",
    "kwargs_export = {\"earliest_time\": \"0\",\n",
    "                 \"latest_time\": \"now\",\n",
    "                 \"enable_lookups\": \"true\",\n",
    "                 \"parse_only\": \"false\",\n",
    "                 \"count\": \"0\"}\n",
    "searchquery_export = '| tstats count as flows WHERE index=cidds \"Src IP Addr\"=192.168.220.15 BY _time span=1h | eval DayOfWeek=strftime(_time,\"%w\")'\n",
    "\n",
    "exportsearch_results = service.jobs.oneshot(searchquery_export, **kwargs_export)\n",
    "\n",
    "# Get the results and display them using the ResultsReader\n",
    "reader = results.ResultsReader(exportsearch_results)\n",
    "\n",
    "items=[]\n",
    "for item in reader:\n",
    "    items.append(item)\n",
    "\n",
    "df_192_168_220_15=pd.DataFrame(items)\n",
    "df_192_168_220_15['count_flows']=df_192_168_220_15['flows'].astype(float)"
   ]
  },
  {
   "cell_type": "markdown",
   "metadata": {},
   "source": [
    "Now that we have the data we are going to look for anomalies using the isolation forest algorithm, using the number of flows and the day of the week as the features to baseline what is 'normal' for this data."
   ]
  },
  {
   "cell_type": "code",
   "execution_count": 9,
   "metadata": {},
   "outputs": [
    {
     "data": {
      "text/plain": [
       "IsolationForest(contamination=0.12, n_jobs=-1, random_state=42)"
      ]
     },
     "execution_count": 9,
     "metadata": {},
     "output_type": "execute_result"
    }
   ],
   "source": [
    "clf=IsolationForest(n_estimators=100, max_samples='auto', contamination=float(.12), \\\n",
    "                        max_features=1.0, bootstrap=False, n_jobs=-1, random_state=42, verbose=0)\n",
    "clf.fit(df_192_168_220_15[['DayOfWeek','count_flows']])"
   ]
  },
  {
   "cell_type": "markdown",
   "metadata": {},
   "source": [
    "With our trained isolation forest model we are now looking for the specific occurences in the data that represent an outlier."
   ]
  },
  {
   "cell_type": "code",
   "execution_count": 10,
   "metadata": {},
   "outputs": [],
   "source": [
    "pred = clf.predict(df_192_168_220_15[['DayOfWeek','count_flows']])\n",
    "df_192_168_220_15['anomaly']=pred\n",
    "\n",
    "def transform_row(x):\n",
    "    output=None\n",
    "    if x['anomaly']==-1:\n",
    "        output=x['count_flows']\n",
    "    return output\n",
    "\n",
    "df_192_168_220_15['outlier']=df_192_168_220_15.apply(transform_row, axis=1)"
   ]
  },
  {
   "cell_type": "markdown",
   "metadata": {},
   "source": [
    "We're now going to plot our raw data and the anomalies on a line chart to visually identify where any outliers occur in the data."
   ]
  },
  {
   "cell_type": "code",
   "execution_count": 11,
   "metadata": {},
   "outputs": [
    {
     "data": {
      "image/png": "[encoded data removed]",
      "text/plain": [
       "<Figure size 432x288 with 1 Axes>"
      ]
     },
     "metadata": {
      "needs_background": "light"
     },
     "output_type": "display_data"
    }
   ],
   "source": [
    "plt.scatter(df_192_168_220_15['_time'],df_192_168_220_15['outlier'],color='red')\n",
    "plt.plot(df_192_168_220_15['_time'], df_192_168_220_15['count_flows'])\n",
    "plt.show()"
   ]
  },
  {
   "cell_type": "code",
   "execution_count": null,
   "metadata": {},
   "outputs": [],
   "source": []
  }
 ],
 "metadata": {
  "kernelspec": {
   "display_name": "Python 3",
   "language": "python",
   "name": "python3"
  },
  "language_info": {
   "codemirror_mode": {
    "name": "ipython",
    "version": 3
   },
   "file_extension": ".py",
   "mimetype": "text/x-python",
   "name": "python",
   "nbconvert_exporter": "python",
   "pygments_lexer": "ipython3",
   "version": "3.8.3"
  }
 },
 "nbformat": 4,
 "nbformat_minor": 4
}
